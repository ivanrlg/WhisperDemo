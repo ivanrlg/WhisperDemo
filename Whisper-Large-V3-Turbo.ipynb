{
  "cells": [
    {
      "cell_type": "markdown",
      "metadata": {
        "id": "view-in-github",
        "colab_type": "text"
      },
      "source": [
        "<a href=\"https://colab.research.google.com/github/ivanrlg/WhisperDemo/blob/main/Whisper-Large-V3-Turbo.ipynb\" target=\"_parent\"><img src=\"https://colab.research.google.com/assets/colab-badge.svg\" alt=\"Open In Colab\"/></a>"
      ]
    },
    {
      "cell_type": "markdown",
      "id": "09a62cf8",
      "metadata": {
        "id": "09a62cf8"
      },
      "source": [
        "# **Whisper Turbo Demo** 🎙️\n",
        "---"
      ]
    },
    {
      "cell_type": "markdown",
      "id": "c064fdc3",
      "metadata": {
        "id": "c064fdc3"
      },
      "source": [
        "## Instalación del paquete 🔧\n",
        "\n",
        "Primero, necesitamos instalar Whisper y ffmpeg. Asegúrate de ejecutar esta celda para instalar las dependencias necesarias."
      ]
    },
    {
      "cell_type": "code",
      "execution_count": null,
      "id": "6b5dfbd6",
      "metadata": {
        "id": "6b5dfbd6"
      },
      "outputs": [],
      "source": [
        "\n",
        "# Instalar dependencias necesarias\n",
        "!pip install git+https://github.com/openai/whisper.git\n",
        "!pip install setuptools-rust\n",
        "!sudo apt-get install ffmpeg\n"
      ]
    },
    {
      "cell_type": "markdown",
      "id": "bfefd165",
      "metadata": {
        "id": "bfefd165"
      },
      "source": [
        "## Sube tu archivo de audio 🎧\n",
        "\n",
        "Haz clic en el botón de abajo para subir tu archivo de audio. Asegúrate de que sea un archivo en formato MP3."
      ]
    },
    {
      "cell_type": "code",
      "execution_count": null,
      "id": "da2de9c7",
      "metadata": {
        "id": "da2de9c7"
      },
      "outputs": [],
      "source": [
        "\n",
        "from google.colab import files\n",
        "\n",
        "uploaded = files.upload()\n",
        "audio_file = list(uploaded.keys())[0]\n"
      ]
    },
    {
      "cell_type": "markdown",
      "id": "6f7d7a99",
      "metadata": {
        "id": "6f7d7a99"
      },
      "source": [
        "## Transcripción de voz 🗣️\n",
        "\n",
        "Vamos a transcribir tu archivo de audio utilizando el modelo 'turbo'."
      ]
    },
    {
      "cell_type": "code",
      "execution_count": null,
      "id": "edcc9f8b",
      "metadata": {
        "id": "edcc9f8b"
      },
      "outputs": [],
      "source": [
        "\n",
        "import whisper\n",
        "\n",
        "# Cargar el modelo 'turbo'\n",
        "model = whisper.load_model(\"large-v3-turbo\")\n",
        "\n",
        "# Transcribir el archivo de audio\n",
        "def transcribe_audio(audio_file):\n",
        "    result = model.transcribe(audio_file)\n",
        "    print(f\"Texto transcrito: {result['text']}\")\n",
        "    return result\n",
        "\n",
        "# Ejecutar transcripción\n",
        "result = transcribe_audio(audio_file)\n"
      ]
    },
    {
      "cell_type": "markdown",
      "id": "591c9366",
      "metadata": {
        "id": "591c9366"
      },
      "source": [
        "## Detectar idioma 🈴\n",
        "\n",
        "Ahora, detectemos el idioma hablado en el archivo de audio."
      ]
    },
    {
      "cell_type": "code",
      "execution_count": null,
      "id": "9061d70f",
      "metadata": {
        "id": "9061d70f"
      },
      "outputs": [],
      "source": [
        "\n",
        "# Detectar el idioma del audio\n",
        "def detect_language(audio_file):\n",
        "    audio = whisper.load_audio(audio_file)\n",
        "    audio = whisper.pad_or_trim(audio)\n",
        "    mel = whisper.log_mel_spectrogram(audio).to(model.device)\n",
        "    _, probs = model.detect_language(mel)\n",
        "    detected_language = max(probs, key=probs.get)\n",
        "    print(f\"Idioma detectado: {detected_language}\")\n",
        "    return detected_language\n",
        "\n",
        "# Ejecutar detección de idioma\n",
        "detect_language(audio_file)\n"
      ]
    },
    {
      "cell_type": "markdown",
      "id": "50869285",
      "metadata": {
        "id": "50869285"
      },
      "source": [
        "## Descargar la transcripción como archivo de texto 📜\n",
        "\n",
        "Ejecuta la celda de abajo para descargar la transcripción en formato `.txt`."
      ]
    },
    {
      "cell_type": "code",
      "execution_count": null,
      "id": "49eb1beb",
      "metadata": {
        "id": "49eb1beb"
      },
      "outputs": [],
      "source": [
        "\n",
        "# Guardar la transcripción en un archivo de texto\n",
        "transcription_text = result['text']\n",
        "with open('transcription.txt', 'w') as f:\n",
        "    f.write(transcription_text)\n",
        "\n",
        "# Descargar el archivo\n",
        "files.download('transcription.txt')\n"
      ]
    },
    {
      "cell_type": "markdown",
      "id": "a9ad30b4",
      "metadata": {
        "id": "a9ad30b4"
      },
      "source": [
        "## Descargar la transcripción completa en JSON 🗂️\n",
        "\n",
        "Puedes descargar la transcripción completa junto con los timestamps en formato JSON."
      ]
    },
    {
      "cell_type": "code",
      "execution_count": null,
      "id": "26212ba1",
      "metadata": {
        "id": "26212ba1"
      },
      "outputs": [],
      "source": [
        "\n",
        "import json\n",
        "\n",
        "# Guardar la transcripción completa en formato JSON\n",
        "with open('transcription.json', 'w') as f:\n",
        "    json.dump(result, f, indent=4)\n",
        "\n",
        "# Descargar el archivo\n",
        "files.download('transcription.json')\n"
      ]
    }
  ],
  "metadata": {
    "colab": {
      "provenance": [],
      "gpuType": "T4",
      "include_colab_link": true
    },
    "language_info": {
      "name": "python"
    },
    "kernelspec": {
      "name": "python3",
      "display_name": "Python 3"
    },
    "accelerator": "GPU"
  },
  "nbformat": 4,
  "nbformat_minor": 5
}